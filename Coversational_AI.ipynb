{
 "cells": [
  {
   "cell_type": "code",
   "execution_count": 9,
   "metadata": {},
   "outputs": [],
   "source": [
    "import tarfile\n",
    "import numpy as np                                                             \n",
    "import soundfile as sf                                                      \n",
    "import keras                                                                \n",
    "from keras.models import Sequential                                         \n",
    "from keras.layers import Dense, Dropout, Activation                         \n",
    "from keras.optimizers import SGD   "
   ]
  },
  {
   "cell_type": "code",
   "execution_count": 8,
   "metadata": {},
   "outputs": [
    {
     "name": "stdout",
     "output_type": "stream",
     "text": [
      "Collecting soundfile\n",
      "  Downloading SoundFile-0.10.3.post1-py2.py3-none-any.whl (21 kB)\n",
      "Requirement already satisfied: cffi>=1.0 in /data/home/bhaktian/anaconda3/lib/python3.7/site-packages (from soundfile) (1.14.3)\n",
      "Requirement already satisfied: pycparser in /data/home/bhaktian/anaconda3/lib/python3.7/site-packages (from cffi>=1.0->soundfile) (2.20)\n",
      "Installing collected packages: soundfile\n",
      "Successfully installed soundfile-0.10.3.post1\n"
     ]
    }
   ],
   "source": [
    "# !pip install soundfile"
   ]
  },
  {
   "cell_type": "code",
   "execution_count": 2,
   "metadata": {},
   "outputs": [],
   "source": [
    "def extract(fname):\n",
    "#     if fname.endswith(\"tar.gz\"):\n",
    "    tar = tarfile.open(fname, \"r:gz\")\n",
    "    tar.extractall()\n",
    "    tar.close()"
   ]
  },
  {
   "cell_type": "code",
   "execution_count": 3,
   "metadata": {},
   "outputs": [],
   "source": [
    "extract('dev-clean.tar.gz')\n"
   ]
  },
  {
   "cell_type": "code",
   "execution_count": 4,
   "metadata": {},
   "outputs": [],
   "source": [
    "extract('dev-other.tar.gz')\n"
   ]
  },
  {
   "cell_type": "code",
   "execution_count": 5,
   "metadata": {},
   "outputs": [],
   "source": [
    "extract('test-clean.tar.gz')\n"
   ]
  },
  {
   "cell_type": "code",
   "execution_count": 6,
   "metadata": {},
   "outputs": [],
   "source": [
    "extract('test-other.tar.gz')"
   ]
  },
  {
   "cell_type": "code",
   "execution_count": 11,
   "metadata": {},
   "outputs": [
    {
     "name": "stdout",
     "output_type": "stream",
     "text": [
      "Epoch 1/10\n",
      "1/1 [==============================] - 0s 2ms/step - loss: 0.6932 - accuracy: 0.5000\n",
      "Epoch 2/10\n",
      "1/1 [==============================] - 0s 2ms/step - loss: 0.8278 - accuracy: 0.5000\n",
      "Epoch 3/10\n",
      "1/1 [==============================] - 0s 2ms/step - loss: 1.6208 - accuracy: 0.5000\n",
      "Epoch 4/10\n",
      "1/1 [==============================] - 0s 1ms/step - loss: 0.8284 - accuracy: 0.5000\n",
      "Epoch 5/10\n",
      "1/1 [==============================] - 0s 2ms/step - loss: 0.7201 - accuracy: 0.5000\n",
      "Epoch 6/10\n",
      "1/1 [==============================] - 0s 2ms/step - loss: 0.6976 - accuracy: 0.5000\n",
      "Epoch 7/10\n",
      "1/1 [==============================] - 0s 2ms/step - loss: 0.6943 - accuracy: 0.5000\n",
      "Epoch 8/10\n",
      "1/1 [==============================] - 0s 2ms/step - loss: 0.6934 - accuracy: 0.5000\n",
      "Epoch 9/10\n",
      "1/1 [==============================] - 0s 1ms/step - loss: 0.6932 - accuracy: 0.5000\n",
      "Epoch 10/10\n",
      "1/1 [==============================] - 0s 2ms/step - loss: 0.6931 - accuracy: 0.5000\n"
     ]
    },
    {
     "data": {
      "text/plain": [
       "<tensorflow.python.keras.callbacks.History at 0x7f45002e5650>"
      ]
     },
     "execution_count": 11,
     "metadata": {},
     "output_type": "execute_result"
    }
   ],
   "source": [
    "path = 'LibriSpeech/dev-clean/1272/128104/1272-128104-0000.flac'                                                  \n",
    "data, samplerate = sf.read(path)                                            \n",
    "dataset = [data, data]                                                      \n",
    "x_train = np.array(dataset)                                                 \n",
    "y_train = keras.utils.to_categorical([0, 1], num_classes=2)                 \n",
    "\n",
    "model = Sequential()                                                        \n",
    "model.add(Dense(320, activation='relu', input_shape=x_train[0].shape))   \n",
    "model.add(Dense(300, activation='relu')) \n",
    "model.add(Dense(100, activation='relu')) \n",
    "model.add(Dense(50, activation='relu')) \n",
    "model.add(Dense(20, activation='relu')) \n",
    "model.add(Dense(10, activation='relu')) \n",
    "model.add(Dense(2, activation='softmax'))                                   \n",
    "model.compile(optimizer='rmsprop', loss='categorical_crossentropy', metrics=['accuracy'])\n",
    "model.fit(x_train, y_train, epochs=10, batch_size=40)    "
   ]
  },
  {
   "cell_type": "code",
   "execution_count": 13,
   "metadata": {},
   "outputs": [],
   "source": [
    "# from data_tools import audio_files_to_numpy\n"
   ]
  },
  {
   "cell_type": "code",
   "execution_count": 14,
   "metadata": {},
   "outputs": [],
   "source": [
    "rms = [np.sqrt(np.mean(block**2)) for block in\n",
    "       sf.blocks('LibriSpeech/dev-clean/1272/128104/1272-128104-0000.flac', blocksize=1024, overlap=512)]\n"
   ]
  },
  {
   "cell_type": "code",
   "execution_count": 15,
   "metadata": {},
   "outputs": [
    {
     "data": {
      "text/plain": [
       "[0.0009178187583512444,\n",
       " 0.0008991894680048443,\n",
       " 0.0008507384291234629,\n",
       " 0.0007171783039832149,\n",
       " 0.0006781134069846188,\n",
       " 0.0006133319685132194,\n",
       " 0.0005151386382419747,\n",
       " 0.0005671283944837184,\n",
       " 0.0005925526264153716,\n",
       " 0.0004954188916454937,\n",
       " 0.00047414784228323406,\n",
       " 0.0005610110248761847,\n",
       " 0.0005993370774991466,\n",
       " 0.000540824996741802,\n",
       " 0.0005126396429969003,\n",
       " 0.0008234551125473176,\n",
       " 0.01983690877931618,\n",
       " 0.05638014388434043,\n",
       " 0.07869405596277985,\n",
       " 0.06854515484328358,\n",
       " 0.03598283073945875,\n",
       " 0.021596782084782502,\n",
       " 0.043229665760768886,\n",
       " 0.042293119839101646,\n",
       " 0.019919891043516647,\n",
       " 0.042140132791980374,\n",
       " 0.045155353360917694,\n",
       " 0.02401980483712502,\n",
       " 0.11472478262303855,\n",
       " 0.16821839931999383,\n",
       " 0.1681031496108116,\n",
       " 0.12753632843507617,\n",
       " 0.0618923229691476,\n",
       " 0.05596222127944703,\n",
       " 0.0991442138249752,\n",
       " 0.11371128063316907,\n",
       " 0.099355315280766,\n",
       " 0.09846851757145092,\n",
       " 0.11347471168791168,\n",
       " 0.11558255415366155,\n",
       " 0.10447529458463348,\n",
       " 0.09521221314767664,\n",
       " 0.07281175592920759,\n",
       " 0.04252936095507729,\n",
       " 0.04362730387968713,\n",
       " 0.07829807543319829,\n",
       " 0.09266904075764716,\n",
       " 0.08206839471972613,\n",
       " 0.05899889938330963,\n",
       " 0.017599646538390634,\n",
       " 0.0036865623727457106,\n",
       " 0.016894374080778582,\n",
       " 0.023882811068378328,\n",
       " 0.031235338241692976,\n",
       " 0.06654206469445477,\n",
       " 0.1047072974038019,\n",
       " 0.09576509542510714,\n",
       " 0.07972908978804268,\n",
       " 0.0922398107657059,\n",
       " 0.06903423047963193,\n",
       " 0.030517391487385335,\n",
       " 0.054277453523242085,\n",
       " 0.06936201200351125,\n",
       " 0.06555962936389273,\n",
       " 0.06521472007142745,\n",
       " 0.05478074875911676,\n",
       " 0.04998917721105652,\n",
       " 0.04978084400692724,\n",
       " 0.030554629171079553,\n",
       " 0.0068408127652331875,\n",
       " 0.007901176804854812,\n",
       " 0.02641586472552255,\n",
       " 0.04139283808137496,\n",
       " 0.0508243895492775,\n",
       " 0.0592398747259028,\n",
       " 0.07755181097441596,\n",
       " 0.07334090147704338,\n",
       " 0.057276453468090745,\n",
       " 0.07231148074986507,\n",
       " 0.07386847026301616,\n",
       " 0.0480252201010263,\n",
       " 0.012603174637923927,\n",
       " 0.028872696004017158,\n",
       " 0.03502423291858851,\n",
       " 0.06373595480060378,\n",
       " 0.09785219190268793,\n",
       " 0.11049314823454062,\n",
       " 0.10538969846024704,\n",
       " 0.09362671970344977,\n",
       " 0.07204996071758239,\n",
       " 0.056034778869174046,\n",
       " 0.058755469897411275,\n",
       " 0.05556942096611084,\n",
       " 0.04626881078544981,\n",
       " 0.03853832298763543,\n",
       " 0.0377994560890038,\n",
       " 0.030236441448117553,\n",
       " 0.05409887222077385,\n",
       " 0.07120365539585832,\n",
       " 0.07099267475918855,\n",
       " 0.050706882317169834,\n",
       " 0.006946221402891883,\n",
       " 0.0009510815661878329,\n",
       " 0.011553021964839146,\n",
       " 0.024056826324601054,\n",
       " 0.03776817406253428,\n",
       " 0.0440615970155679,\n",
       " 0.036497698069772475,\n",
       " 0.03422946580741886,\n",
       " 0.07222852174013474,\n",
       " 0.09153370750920484,\n",
       " 0.0890954455061719,\n",
       " 0.09543493685043718,\n",
       " 0.0791463020073208,\n",
       " 0.03790751970427414,\n",
       " 0.051797338965115326,\n",
       " 0.07321160355297983,\n",
       " 0.08242069090775246,\n",
       " 0.1082274487704341,\n",
       " 0.11425250042697084,\n",
       " 0.10169435992652077,\n",
       " 0.09643244248404033,\n",
       " 0.08940415612951537,\n",
       " 0.07913524311824363,\n",
       " 0.05623649995260347,\n",
       " 0.03205716430308604,\n",
       " 0.015692787031129755,\n",
       " 0.019790825240090175,\n",
       " 0.02118794694891388,\n",
       " 0.027149082938402704,\n",
       " 0.05267895846462218,\n",
       " 0.0751387339842618,\n",
       " 0.08388027593740362,\n",
       " 0.08741325426219755,\n",
       " 0.08715589773460998,\n",
       " 0.07574461527186639,\n",
       " 0.060131434133878225,\n",
       " 0.03819279047043228,\n",
       " 0.019583974975215378,\n",
       " 0.034593193914150215,\n",
       " 0.04666421509458964,\n",
       " 0.045941773693938245,\n",
       " 0.04399184280883062,\n",
       " 0.037821316284094915,\n",
       " 0.02452629585180269,\n",
       " 0.048771437497335646,\n",
       " 0.07709058535719744,\n",
       " 0.07705111633677295,\n",
       " 0.06308926423665233,\n",
       " 0.06829847019882393,\n",
       " 0.053313733868073185,\n",
       " 0.003431444367287045,\n",
       " 0.03237580414160409,\n",
       " 0.05470159562987786,\n",
       " 0.09505572148757148,\n",
       " 0.11752758631835913,\n",
       " 0.09856230552608454,\n",
       " 0.06332960406811547,\n",
       " 0.060845536308477305,\n",
       " 0.05574373097279564,\n",
       " 0.020673846591169536,\n",
       " 0.0011827560994097542,\n",
       " 0.007037404329305886,\n",
       " 0.05463003322232003,\n",
       " 0.07741345821634125,\n",
       " 0.07442662541837329,\n",
       " 0.05864093622575738,\n",
       " 0.03276253407275006,\n",
       " 0.010884732513197798,\n",
       " 0.001737928777106394,\n",
       " 0.0011552779336363784,\n",
       " 0.0006448213724003194,\n",
       " 0.00047884043458177596,\n",
       " 0.00045721995329011273,\n",
       " 0.0004697182444804507,\n",
       " 0.0005398588493144619,\n",
       " 0.0006191880599249075,\n",
       " 0.000675651163434423,\n",
       " 0.0007529299496135057,\n",
       " 0.0011795540357509404,\n",
       " 0.0013314290815447996,\n",
       " 0.0010565287184895603]"
      ]
     },
     "execution_count": 15,
     "metadata": {},
     "output_type": "execute_result"
    }
   ],
   "source": [
    "rms"
   ]
  },
  {
   "cell_type": "code",
   "execution_count": 16,
   "metadata": {},
   "outputs": [],
   "source": [
    "with open('LibriSpeech/dev-clean/1272/128104/1272-128104-0000.flac', 'rb') as f:\n",
    "    data, samplerate = sf.read(f)"
   ]
  },
  {
   "cell_type": "code",
   "execution_count": 17,
   "metadata": {},
   "outputs": [
    {
     "data": {
      "text/plain": [
       "array([0.00238037, 0.0020752 , 0.00198364, ..., 0.00042725, 0.00057983,\n",
       "       0.0010376 ])"
      ]
     },
     "execution_count": 17,
     "metadata": {},
     "output_type": "execute_result"
    }
   ],
   "source": [
    "data"
   ]
  },
  {
   "cell_type": "code",
   "execution_count": 18,
   "metadata": {},
   "outputs": [
    {
     "data": {
      "text/plain": [
       "16000"
      ]
     },
     "execution_count": 18,
     "metadata": {},
     "output_type": "execute_result"
    }
   ],
   "source": [
    "samplerate"
   ]
  },
  {
   "cell_type": "code",
   "execution_count": 24,
   "metadata": {},
   "outputs": [
    {
     "name": "stdout",
     "output_type": "stream",
     "text": [
      "\u001b[31mERROR: Could not find a version that satisfies the requirement gi (from versions: none)\u001b[0m\r\n",
      "\u001b[31mERROR: No matching distribution found for gi\u001b[0m\r\n"
     ]
    }
   ],
   "source": [
    "!pip install gi"
   ]
  },
  {
   "cell_type": "code",
   "execution_count": 20,
   "metadata": {},
   "outputs": [
    {
     "name": "stdout",
     "output_type": "stream",
     "text": [
      "FLAC, 5.86 seconds, 16000 Hz (audio/flac)\n"
     ]
    }
   ],
   "source": [
    "from mutagen.flac import FLAC \n",
    "  \n",
    "# Loading a flac file \n",
    "audio = FLAC(\"LibriSpeech/dev-clean/1272/128104/1272-128104-0000.flac\") \n",
    "  \n",
    "# Printing all the metadata \n",
    "print(audio.pprint())"
   ]
  },
  {
   "cell_type": "code",
   "execution_count": 27,
   "metadata": {},
   "outputs": [
    {
     "name": "stdout",
     "output_type": "stream",
     "text": [
      "Requirement already satisfied: playsound in /data/home/bhaktian/anaconda3/lib/python3.7/site-packages (1.2.2)\n",
      "Note: you may need to restart the kernel to use updated packages.\n"
     ]
    }
   ],
   "source": [
    "# pip install playsound"
   ]
  },
  {
   "cell_type": "code",
   "execution_count": 28,
   "metadata": {},
   "outputs": [],
   "source": [
    "from playsound import playsound"
   ]
  },
  {
   "cell_type": "code",
   "execution_count": 48,
   "metadata": {},
   "outputs": [],
   "source": [
    "def get_dataset(self, folder_path ):\n",
    "        file_list = [join(folder_path, f) for f in listdir(folder_path) if isfile(join(folder_path, f))]\n",
    "        random.shuffle(file_list)\n",
    "        dataset = tf.data.TFRecordDataset(file_list)\n",
    "\n",
    "        if self.mode == 'fixed':\n",
    "            dataset = dataset.map(self.read_data_format_fixed)\n",
    "        elif self.mode == 'var':\n",
    "            dataset = dataset.map(self.read_data_format_var)\n",
    "\n",
    "        n_samples = len(file_list)\n",
    "        \n",
    "        return dataset, n_samples\n"
   ]
  },
  {
   "cell_type": "code",
   "execution_count": 44,
   "metadata": {},
   "outputs": [],
   "source": [
    "file_list = [join('LibriSpeech/dev-clean/2035/', f) for f in listdir('LibriSpeech/dev-clean/2035/') if isfile(join('LibriSpeech/dev-clean/2035/', f))]\n"
   ]
  },
  {
   "cell_type": "code",
   "execution_count": 45,
   "metadata": {},
   "outputs": [],
   "source": [
    "from os import listdir\n",
    "from os.path import isfile, join"
   ]
  },
  {
   "cell_type": "code",
   "execution_count": null,
   "metadata": {},
   "outputs": [],
   "source": []
  }
 ],
 "metadata": {
  "kernelspec": {
   "display_name": "Python 3",
   "language": "python",
   "name": "python3"
  },
  "language_info": {
   "codemirror_mode": {
    "name": "ipython",
    "version": 3
   },
   "file_extension": ".py",
   "mimetype": "text/x-python",
   "name": "python",
   "nbconvert_exporter": "python",
   "pygments_lexer": "ipython3",
   "version": "3.7.9"
  }
 },
 "nbformat": 4,
 "nbformat_minor": 4
}
